{
 "cells": [
  {
   "cell_type": "code",
   "execution_count": null,
   "id": "84336a8a",
   "metadata": {},
   "outputs": [],
   "source": [
    "# ── universal run-folder resolver ─────────────────────────────────────\n",
    "from pathlib import Path\n",
    "import os, yaml\n",
    "\n",
    "CFG_FILE = Path(os.getenv(\"PIPELINE_CFG\", \"pipeline_config.yaml\")).expanduser()\n",
    "CFG = yaml.safe_load(CFG_FILE.read_text()) or {}\n",
    "DEFAULTS = CFG.get(\"defaults\", {})\n",
    "EVENTS   = {str(k): v for k, v in CFG.get(\"events\", {}).items()}\n",
    "\n",
    "SWAN_YEAR = str(os.getenv(\"SWAN_YEAR\", next(iter(EVENTS))))\n",
    "OUTPUT_ROOT = Path(DEFAULTS[\"OUTPUT_ROOT\"]).expanduser()\n",
    "EVENT_DIR   = OUTPUT_ROOT / f\"event={SWAN_YEAR}\"\n",
    "\n",
    "RUN_DIR = (Path(os.getenv(\"RUN_DIR\")).expanduser()\n",
    "           if os.getenv(\"RUN_DIR\") else\n",
    "           (EVENT_DIR / os.getenv(\"RUN_DATE\") if os.getenv(\"RUN_DATE\")\n",
    "            else max(EVENT_DIR.iterdir(), key=lambda p: p.stat().st_mtime)))\n",
    "\n",
    "print(f\"[bootstrap] RUN_DIR = {RUN_DIR}\")\n",
    "# make the variable visible to the rest of the notebook\n",
    "globals()[\"RUN_DIR\"] = RUN_DIR\n",
    "# ──────────────────────────────────────────────────────────────────────"
   ]
  }
 ],
 "metadata": {
  "language_info": {
   "name": "python"
  }
 },
 "nbformat": 4,
 "nbformat_minor": 5
}
