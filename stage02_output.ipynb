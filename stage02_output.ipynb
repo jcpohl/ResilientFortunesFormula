{
 "cells": [
  {
   "cell_type": "code",
   "execution_count": 1,
   "id": "894b1a67",
   "metadata": {
    "execution": {
     "iopub.execute_input": "2025-06-14T04:50:15.978165Z",
     "iopub.status.busy": "2025-06-14T04:50:15.978165Z",
     "iopub.status.idle": "2025-06-14T04:50:15.988793Z",
     "shell.execute_reply": "2025-06-14T04:50:15.987790Z"
    },
    "papermill": {
     "duration": 0.016822,
     "end_time": "2025-06-14T04:50:15.989831",
     "exception": false,
     "start_time": "2025-06-14T04:50:15.973009",
     "status": "completed"
    },
    "tags": [
     "injected-parameters"
    ]
   },
   "outputs": [],
   "source": [
    "# Parameters\n",
    "INPUT_CSV = \"C:/Users/Jason Pohl/OneDrive - Bond University/PhD/rff/NEW_DATA.csv\"\n",
    "OUTPUT_ROOT = \"C:/Users/Jason Pohl/OneDrive - Bond University/PhD/rff/outputs_rff\"\n",
    "SWAN_YEAR = 2020\n",
    "WIN_START = 2015\n",
    "WIN_END = 2024\n"
   ]
  },
  {
   "cell_type": "code",
   "execution_count": 2,
   "id": "fafcc2dc",
   "metadata": {
    "execution": {
     "iopub.execute_input": "2025-06-14T04:50:15.995325Z",
     "iopub.status.busy": "2025-06-14T04:50:15.993853Z",
     "iopub.status.idle": "2025-06-14T04:50:29.808205Z",
     "shell.execute_reply": "2025-06-14T04:50:29.807203Z"
    },
    "papermill": {
     "duration": 13.81741,
     "end_time": "2025-06-14T04:50:29.809199",
     "exception": false,
     "start_time": "2025-06-14T04:50:15.991789",
     "status": "completed"
    },
    "tags": []
   },
   "outputs": [
    {
     "name": "stdout",
     "output_type": "stream",
     "text": [
      "2025-06-14 14:50:16,296 | INFO    | ==========  STAGE 02  ==========\n"
     ]
    },
    {
     "name": "stdout",
     "output_type": "stream",
     "text": [
      "2025-06-14 14:50:16,298 | INFO    | RUN_DIR   : C:\\Users\\Jason Pohl\\OneDrive - Bond University\\PhD\\rff\\outputs_rff\\event=2020\\2025-06-13\n"
     ]
    },
    {
     "name": "stdout",
     "output_type": "stream",
     "text": [
      "2025-06-14 14:50:16,299 | INFO    | SWAN_YEAR : 2020\n"
     ]
    },
    {
     "name": "stdout",
     "output_type": "stream",
     "text": [
      "2025-06-14 14:50:17,054 | INFO    | Loaded Stage-01 CSV: 34,862 rows\n"
     ]
    },
    {
     "name": "stdout",
     "output_type": "stream",
     "text": [
      "2025-06-14 14:50:17,945 | INFO    | NetIncome                     baseline 79.5% | recovery 100.0%\n"
     ]
    },
    {
     "name": "stdout",
     "output_type": "stream",
     "text": [
      "2025-06-14 14:50:18,886 | INFO    | EarningBeforeInterestAndTax   baseline 79.5% | recovery 100.0%\n"
     ]
    },
    {
     "name": "stdout",
     "output_type": "stream",
     "text": [
      "2025-06-14 14:50:19,828 | INFO    | OperatingIncome               baseline 79.5% | recovery 100.0%\n"
     ]
    },
    {
     "name": "stdout",
     "output_type": "stream",
     "text": [
      "2025-06-14 14:50:20,815 | INFO    | EBITDA                        baseline 79.5% | recovery 100.0%\n"
     ]
    },
    {
     "name": "stdout",
     "output_type": "stream",
     "text": [
      "2025-06-14 14:50:21,733 | INFO    | OperatingCashFlow             baseline 79.5% | recovery 100.0%\n"
     ]
    },
    {
     "name": "stdout",
     "output_type": "stream",
     "text": [
      "2025-06-14 14:50:22,560 | INFO    | FreeCashFlow                  baseline 79.5% | recovery 100.0%\n"
     ]
    },
    {
     "name": "stdout",
     "output_type": "stream",
     "text": [
      "2025-06-14 14:50:23,471 | INFO    | Cash                          baseline 79.5% | recovery 100.0%\n"
     ]
    },
    {
     "name": "stdout",
     "output_type": "stream",
     "text": [
      "2025-06-14 14:50:24,460 | INFO    | CashAndCashEquivalents        baseline 79.5% | recovery 100.0%\n"
     ]
    },
    {
     "name": "stdout",
     "output_type": "stream",
     "text": [
      "2025-06-14 14:50:25,575 | INFO    | TotalRevenue                  baseline 79.5% | recovery 100.0%\n"
     ]
    },
    {
     "name": "stdout",
     "output_type": "stream",
     "text": [
      "2025-06-14 14:50:26,502 | INFO    | GrossProfit                   baseline 79.5% | recovery 100.0%\n"
     ]
    },
    {
     "name": "stdout",
     "output_type": "stream",
     "text": [
      "2025-06-14 14:50:29,743 | INFO    | Final DataFrame info:\n",
      "<class 'pandas.core.frame.DataFrame'>\n",
      "RangeIndex: 34862 entries, 0 to 34861\n",
      "Columns: 194 entries, Symbol to Flag_GrossProfit\n",
      "dtypes: Int16(1), datetime64[ns](1), float64(178), int64(4), object(10)\n",
      "memory usage: 51.4+ MB\n",
      "\n"
     ]
    },
    {
     "name": "stdout",
     "output_type": "stream",
     "text": [
      "2025-06-14 14:50:29,744 | INFO    | Saved → C:\\Users\\Jason Pohl\\OneDrive - Bond University\\PhD\\rff\\outputs_rff\\event=2020\\2025-06-13\\stage02\\Stage2_Data_WithMetrics.csv\n"
     ]
    },
    {
     "name": "stdout",
     "output_type": "stream",
     "text": [
      "2025-06-14 14:50:29,795 | INFO    | ✅  STAGE 02 complete\n"
     ]
    }
   ],
   "source": [
    "#!/usr/bin/env python\n",
    "\"\"\"\n",
    "STAGE 02 · RESILIENCE METRICS\n",
    "────────────────────────────\n",
    "Adds Score_*  and Flag_* columns to the Stage-01 data and saves\n",
    "\n",
    "  <OUTPUT_ROOT>/event=<SWAN_YEAR>/<RUN_TAG>/stage02/Stage2_Data_WithMetrics.csv\n",
    "\"\"\"\n",
    "from __future__ import annotations\n",
    "import os, sys, io, logging\n",
    "from pathlib import Path\n",
    "from typing import Dict, List\n",
    "\n",
    "import pandas as pd\n",
    "import numpy as np\n",
    "\n",
    "from pipeline_utils import load_cfg, resolve_run_dir\n",
    "\n",
    "\n",
    "# ──────────────────────────────────────────────────────────\n",
    "# 1 · CONFIG & PATHS\n",
    "# ──────────────────────────────────────────────────────────\n",
    "CFG      = load_cfg()                                       # pipeline_config.yaml\n",
    "EVENTS   = {str(k): v for k, v in CFG.get(\"events\", {}).items()}\n",
    "ST2_CFG  = CFG.get(\"stage2\", {})                            # optional YAML block\n",
    "\n",
    "# – runtime parameters ––––––––––––––––––––––––––––––––––––\n",
    "SWAN_YEAR = str(os.getenv(\"SWAN_YEAR\") or next(iter(EVENTS)))\n",
    "if SWAN_YEAR not in EVENTS:\n",
    "    raise KeyError(f\"SWAN_YEAR={SWAN_YEAR} not in YAML `events:` block\")\n",
    "\n",
    "RUN_DIR = resolve_run_dir(                                  # …/event=<YEAR>/<RUN_TAG>/\n",
    "            swan_year=SWAN_YEAR,\n",
    "            must_have=\"stage01/stage01_cleaned.csv\")\n",
    "\n",
    "STAGE_DIR = RUN_DIR / \"stage02\"\n",
    "STAGE_DIR.mkdir(parents=True, exist_ok=True)\n",
    "\n",
    "STAGE1_CSV = RUN_DIR / \"stage01\" / \"stage01_cleaned.csv\"\n",
    "OUT_CSV    = STAGE_DIR / \"Stage2_Data_WithMetrics.csv\"\n",
    "\n",
    "DATE_COL  = ST2_CFG.get(\"date_col\", \"ReportDate\")\n",
    "ID_COL    = ST2_CFG.get(\"id_col\",   \"Symbol\")\n",
    "MAX_YEARS = int(ST2_CFG.get(\"max_years\", 4))\n",
    "\n",
    "# – metrics to score ––––––––––––––––––––––––––––––––––––––\n",
    "METRICS: List[str] = ST2_CFG.get(\n",
    "    \"metrics\",\n",
    "    [\n",
    "        \"NetIncome\", \"EarningBeforeInterestAndTax\", \"OperatingIncome\",\n",
    "        \"EBITDA\", \"OperatingCashFlow\", \"FreeCashFlow\",\n",
    "        \"Cash\", \"CashAndCashEquivalents\", \"TotalRevenue\", \"GrossProfit\",\n",
    "    ],\n",
    ")\n",
    "# True ⇒ higher is better\n",
    "METRIC_SIGN: Dict[str, bool] = {m: True for m in METRICS}\n",
    "\n",
    "\n",
    "\n",
    "# ──────────────────────────────────────────────────────────\n",
    "# 2. LOGGER\n",
    "# ──────────────────────────────────────────────────────────\n",
    "logging.basicConfig(\n",
    "    level=logging.INFO,\n",
    "    format=\"%(asctime)s | %(levelname)-7s | %(message)s\",\n",
    "    handlers=[\n",
    "        logging.FileHandler(STAGE_DIR / \"stage02.log\", mode=\"w\", encoding=\"utf-8\"),\n",
    "        logging.StreamHandler(sys.stdout),\n",
    "    ],\n",
    ")\n",
    "log = logging.getLogger(__name__)\n",
    "log.info(\"==========  STAGE 02  ==========\")\n",
    "log.info(\"RUN_DIR   : %s\", RUN_DIR)\n",
    "log.info(\"SWAN_YEAR : %s\", SWAN_YEAR)\n",
    "\n",
    "# ──────────────────────────────────────────────────────────\n",
    "# 3. LOAD STAGE-01 DATA\n",
    "# ──────────────────────────────────────────────────────────\n",
    "if \"data_stage_1\" in globals():\n",
    "    df = globals()[\"data_stage_1\"].copy()\n",
    "    log.info(\"Re-used Stage-01 DataFrame from memory.\")\n",
    "else:\n",
    "    df = pd.read_csv(STAGE1_CSV, parse_dates=[DATE_COL], low_memory=False)\n",
    "    log.info(\"Loaded Stage-01 CSV: %s rows\", f\"{len(df):,}\")\n",
    "\n",
    "df[\"Year\"] = df[DATE_COL].dt.year.astype(\"Int16\")\n",
    "SWAN_YEAR_INT = int(SWAN_YEAR)\n",
    "\n",
    "# ──────────────────────────────────────────────────────────\n",
    "# 4. HELPERS\n",
    "# ──────────────────────────────────────────────────────────\n",
    "def last_pre_swan(series: pd.Series) -> float:\n",
    "    \"\"\"Last non-NA value before the crisis year.\"\"\"\n",
    "    pre = series[series.index < SWAN_YEAR_INT].dropna()\n",
    "    return pre.iloc[-1] if not pre.empty else np.nan\n",
    "\n",
    "def first_recovery(series: pd.Series, baseline: float, higher_ok: bool) -> float:\n",
    "    \"\"\"Earliest year >= swan where metric reaches the baseline again.\"\"\"\n",
    "    if pd.isna(baseline):                   # no baseline ⇒ no recovery\n",
    "        return np.nan\n",
    "    cond = series >= baseline if higher_ok else series <= baseline\n",
    "    candidates = series[(series.index >= SWAN_YEAR_INT) & cond]\n",
    "    return candidates.index.min() if not candidates.empty else np.nan\n",
    "\n",
    "# ──────────────────────────────────────────────────────────\n",
    "# 5. CORE LOOP – one metric at a time\n",
    "# ──────────────────────────────────────────────────────────\n",
    "for metric in METRICS:\n",
    "\n",
    "    if metric not in df.columns:\n",
    "        log.warning(\"⏭️  %-28s not found – skipped\", metric)\n",
    "        continue\n",
    "\n",
    "    g = df.set_index(\"Year\").groupby(ID_COL)[metric]\n",
    "\n",
    "    baseline  = g.apply(last_pre_swan)\n",
    "    rec_year  = g.apply(lambda s: first_recovery(\n",
    "                            s, baseline.get(s.name), METRIC_SIGN[metric]))\n",
    "\n",
    "    # Recovery period in years (1 = immediate, MAX_YEARS = never)\n",
    "    rp = (rec_year - SWAN_YEAR_INT + 1) \\\n",
    "           .clip(lower=1, upper=MAX_YEARS) \\\n",
    "           .fillna(MAX_YEARS).astype(\"int16\")\n",
    "\n",
    "    score = ((rp - 1) / (MAX_YEARS - 1)).round(4)            # 0 best … 1 worst\n",
    "    flag  = (rp < rp.median()).astype(\"int8\")                 # simple binary flag\n",
    "\n",
    "    df = (df.merge(rp.rename(f\"RP_{metric}\"),       on=ID_COL, how=\"left\")\n",
    "            .merge(score.rename(f\"Score_{metric}\"), on=ID_COL, how=\"left\")\n",
    "            .merge(flag.rename(f\"Flag_{metric}\"),   on=ID_COL, how=\"left\"))\n",
    "\n",
    "    log.info(\"%-28s  baseline %.1f%% | recovery %.1f%%\",\n",
    "             metric, baseline.notna().mean()*100, rp.notna().mean()*100)\n",
    "\n",
    "# ──────────────────────────────────────────────────────────\n",
    "# 6. SAVE & FINISH\n",
    "# ──────────────────────────────────────────────────────────\n",
    "df.to_csv(OUT_CSV, index=False)\n",
    "buf = io.StringIO(); df.info(buf=buf)\n",
    "log.info(\"Final DataFrame info:\\n%s\", buf.getvalue())\n",
    "log.info(\"Saved → %s\", OUT_CSV)\n",
    "\n",
    "# keep a copy in memory for Stage-03 if run in same Python session\n",
    "data_stage_2 = df.copy()\n",
    "log.info(\"✅  STAGE 02 complete\")"
   ]
  }
 ],
 "metadata": {
  "kernelspec": {
   "display_name": "base",
   "language": "python",
   "name": "python3"
  },
  "language_info": {
   "codemirror_mode": {
    "name": "ipython",
    "version": 3
   },
   "file_extension": ".py",
   "mimetype": "text/x-python",
   "name": "python",
   "nbconvert_exporter": "python",
   "pygments_lexer": "ipython3",
   "version": "3.8.10"
  },
  "papermill": {
   "default_parameters": {},
   "duration": 15.706939,
   "end_time": "2025-06-14T04:50:30.062647",
   "environment_variables": {},
   "exception": null,
   "input_path": "stage02.ipynb",
   "output_path": "stage02_output.ipynb",
   "parameters": {
    "INPUT_CSV": "C:/Users/Jason Pohl/OneDrive - Bond University/PhD/rff/NEW_DATA.csv",
    "OUTPUT_ROOT": "C:/Users/Jason Pohl/OneDrive - Bond University/PhD/rff/outputs_rff",
    "SWAN_YEAR": 2020,
    "WIN_END": 2024,
    "WIN_START": 2015
   },
   "start_time": "2025-06-14T04:50:14.355708",
   "version": "2.6.0"
  }
 },
 "nbformat": 4,
 "nbformat_minor": 5
}